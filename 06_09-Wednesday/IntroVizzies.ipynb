{
 "cells": [
  {
   "cell_type": "markdown",
   "metadata": {},
   "source": [
    "# Introduction to Visualization In Action\n",
    "\n",
    "Purpose: This notebook will introduce you to various plotting \"packages\" currently supported in the Python ecosystem. We will cover various types of graphics, how to export graphics, and how to create geographic visualization for planetary bodies.\n"
   ]
  },
  {
   "cell_type": "code",
   "execution_count": null,
   "metadata": {},
   "outputs": [],
   "source": [
    "\n",
    "#notes - \n",
    "\n",
    "#cover matplotlib\n",
    "#cover cartopy\n",
    "#cover seaborn\n",
    "#cover plotly [demo pip install]\n",
    "\n",
    "#use the elevation data from Mars"
   ]
  }
 ],
 "metadata": {
  "kernelspec": {
   "display_name": "Python 3",
   "language": "python",
   "name": "python3"
  },
  "language_info": {
   "codemirror_mode": {
    "name": "ipython",
    "version": 3
   },
   "file_extension": ".py",
   "mimetype": "text/x-python",
   "name": "python",
   "nbconvert_exporter": "python",
   "pygments_lexer": "ipython3",
   "version": "3.7.7"
  }
 },
 "nbformat": 4,
 "nbformat_minor": 4
}

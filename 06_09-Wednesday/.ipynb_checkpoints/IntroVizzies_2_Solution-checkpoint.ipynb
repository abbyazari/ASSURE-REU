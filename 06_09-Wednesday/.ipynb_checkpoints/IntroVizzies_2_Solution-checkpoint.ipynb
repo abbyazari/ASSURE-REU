{
 "cells": [
  {
   "cell_type": "markdown",
   "metadata": {},
   "source": [
    "# Introduction to Visualization In Action - Part 2\n",
    "\n",
    "\n",
    "## What will we do in this notebook: \n",
    "\n",
    "This notebook gives us a chance to try out reading and plotting basic plots on our own! You will be put in Zoom rooms with one other person to work with on a shared notebook. \n",
    "\n",
    "You can share your notebook with them by going to the top panel: \"Share -> Share Jupyter Server Link\". This essentially functions as a private link which you can work collaboratively on one document. \n",
    "\n",
    "Your goal here will be to read in some of the datasets and then make a \"composite\" plot. \n",
    "\n",
    "Please work with them to complete this notebook. We will regroup in 30 minutes to discuss your experience and questions. \n",
    "\n",
    "-\n",
    "\n",
    "-\n",
    "\n",
    "-\n",
    "\n",
    "-"
   ]
  },
  {
   "cell_type": "markdown",
   "metadata": {},
   "source": [
    "## Section 1. Read Data In\n",
    "\n",
    "Work with your parter to read in one of the hour OMNI file that ends in .lst (your will see there are a few in your notebook).\n",
    "\n",
    "Hints: You will need to start by importing some packages, then use pd.read_csv, don't forget you will need to clean the OMNI dataset."
   ]
  },
  {
   "cell_type": "code",
   "execution_count": null,
   "metadata": {},
   "outputs": [],
   "source": [
    "import pandas as pd\n",
    "import numpy as np\n",
    "\n",
    "\n"
   ]
  },
  {
   "cell_type": "code",
   "execution_count": null,
   "metadata": {},
   "outputs": [],
   "source": [
    "\n",
    "\n",
    "colNames = ['YEAR', 'DOY', 'Hour', 'BX', 'BY', 'BZ', 'FlowPressure', 'Ey', 'Kp', \n",
    "            'SunspotNumber', 'Dst', 'f10.7_index']\n",
    "\n",
    "#here we read the hour cadence of omni data, declare the seperation to be any combination of spaces, \n",
    "#the names of the columns to be the ones we defined above, and the dates to be the first three columns\n",
    "hourOmni = pd.read_csv('./Data/OMNI/omni2_Hourly1980_2018.lst', sep = '\\s+', names = colNames,\n",
    "                          parse_dates = {'Datetime': colNames[0:3]}, keep_date_col = 'True')\n",
    "\n",
    "#here we are redefining the index to be a datetime index\n",
    "hourOmni.index = pd.to_datetime(hourOmni['Datetime'], infer_datetime_format = False, \n",
    "                                   format = '%Y %j %H')\n",
    "\n"
   ]
  },
  {
   "cell_type": "code",
   "execution_count": null,
   "metadata": {},
   "outputs": [],
   "source": [
    "hourOmni.replace(to_replace = [99, 99.9, 99.99, 999, 999.9, 999.99], value = np.nan, inplace = True)"
   ]
  },
  {
   "cell_type": "markdown",
   "metadata": {},
   "source": [
    "## Section 2. Plot Your Data\n",
    "\n",
    "Your next goal will be to plot both datasets together. We saw a bit of this in the lab but I want to show you how you can expand this. I've set up a general starting point for your figure below. Pick two variables in the OMNI dataset (you can use hourOmni.columns to see all the columns) to plot vs the index on the x axis.\n",
    "\n",
    "Go ahead and fill it in with your partner."
   ]
  },
  {
   "cell_type": "code",
   "execution_count": null,
   "metadata": {},
   "outputs": [],
   "source": [
    "#setting up the figure -> see more information here \n",
    "#https://matplotlib.org/stable/api/_as_gen/matplotlib.pyplot.subplots.html\n",
    "import matplotlib.pyplot as plt\n",
    "fig,  (ax1, ax2) = plt.subplots(nrows = 2, ncols = 1, figsize = (10, 10))\n",
    "\n",
    "#now you can treat ax1 and ax2 as we did previously in the class\n",
    "\n",
    "ax1.plot(hourOmni.index, hourOmni.SunspotNumber, color = '#854442')\n",
    "\n",
    "ax2.plot(hourOmni.index, hourOmni.FlowPressure, color = '#3d6c7d')\n",
    "\n",
    "ax1.set_ylabel('Sunspot Number', fontsize = 20)\n",
    "\n",
    "ax2.set_ylabel('Flow Pressure', fontsize = 20)\n",
    "\n",
    "ax2.set_xlabel('Year', fontsize = 20)\n",
    "\n",
    "ax1.grid(color='gray', linestyle='dashed')\n",
    "\n",
    "ax2.grid(color='gray', linestyle='dashed')\n",
    "\n",
    "ax1.tick_params(labelsize = 14)\n",
    "ax2.tick_params(labelsize = 14)\n",
    "\n"
   ]
  },
  {
   "cell_type": "code",
   "execution_count": null,
   "metadata": {},
   "outputs": [],
   "source": []
  }
 ],
 "metadata": {
  "kernelspec": {
   "display_name": "Python 3",
   "language": "python",
   "name": "python3"
  },
  "language_info": {
   "codemirror_mode": {
    "name": "ipython",
    "version": 3
   },
   "file_extension": ".py",
   "mimetype": "text/x-python",
   "name": "python",
   "nbconvert_exporter": "python",
   "pygments_lexer": "ipython3",
   "version": "3.7.6"
  }
 },
 "nbformat": 4,
 "nbformat_minor": 4
}

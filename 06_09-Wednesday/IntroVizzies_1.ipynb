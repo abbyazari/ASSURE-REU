{
 "cells": [
  {
   "cell_type": "markdown",
   "metadata": {},
   "source": [
    "# Introduction to Visualization In Action - Part 1\n",
    "\n",
    "Purpose: This notebook will introduce you to various plotting \"packages\" currently supported in the Python ecosystem and to functionalities you normally run into when dealing with space science datasets.\n",
    "\n",
    "\n",
    "## A Quick Review\n",
    "\n",
    "\n",
    "### What is Python and why are we using it?\n",
    "\n",
    "FIX ME BASED ON WHAT TONY COVERS. Python is an object oriented programming language. This means it has 'objects' which have certain rules or methods which you can access to run computer programming. We've seen this as we use pandas dataframes (objects) to analyze data. \n",
    "\n",
    "\n",
    "### What is Jupyter?\n",
    "\n",
    "Jupyter is a interactive environment (this \"notebook\") where we can explore how a programming language ie Python works. You can \"run\" various cells at a time by hitting shift-enter OR by hitting run after selecting a cell. \n",
    "\n",
    "To edit a cell: double click. \n",
    "To make a text box cell: use the Cell -> Markdown option\n",
    "\n",
    "### What is the JupyterHub?\n",
    "\n",
    "The hub we are currently on allows us to compute \"in the cloud\". By that it means that each notebook is being run through Amazon Web Services. The details are less important than essentially it means that your computer doesn't need to have any Python installed to be running our current code. \n",
    "\n",
    "\n",
    "## What will we do in this notebook: \n",
    "\n",
    "This notebook is the first part of a two part series. In this notebook we will be using a solar dataset (related to the sun) to understand long duration time behavior of the sun and it's impact on the Earth. \n",
    "\n",
    "By the end of this lab you should be able to: \n",
    "- FIX ME Blah\n"
   ]
  },
  {
   "cell_type": "markdown",
   "metadata": {},
   "source": [
    "## Section 1. The Physics \n",
    "\n",
    "### We will be using solar data to visualize both the sun, and space weather.\n",
    "\n",
    "*What is space weather?*\n",
    "- \"Space-weather events are naturally occurring phenomena that **have the potential to disrupt** electric power systems; satellite, aircraft, and spacecraft operations; telecommunications; position, navigation, and timing services; and other technologies and infrastructures...\" Source - [National Space Weather Action Plan](https://obamawhitehouse.archives.gov/sites/default/files/microsites/ostp/final_nationalspaceweatheractionplan_20151028.pdf)\n",
    "\n",
    "- \"Space weather refers to the **environmental conditions in Earth's magnetosphere (e.g. magnetic environment), ionosphere and thermosphere (e.g. upper atmosphere) due to the Sun and the solar wind** that can influence the functioning and reliability of spaceborne and ground-based systems and services or endanger property or human health.\" Source - [European Space Agency](http://swe.ssa.esa.int/what-is-space-weather)\n",
    "\n",
    "See [video here](./Images/Example_GeoSpaceWeather.mp4) on a geomagnetic storm. \n",
    "\n",
    "<img src=\"./Images/SpaceWeatherNOAA.jpg\" alt=\"Drawing2\" width=\"2000px\"/>\n",
    "\n",
    "Image Source: [NOAA](http://www.noaa.gov/explainers/space-weather-storms-from-sun)"
   ]
  },
  {
   "cell_type": "markdown",
   "metadata": {},
   "source": [
    "## Section 2. Reading in Required Package and Loading Our Data\n",
    "\n",
    "#### What is Matplotlib?\n",
    "\n",
    "Matplotlib is a package that enables visualization and graphics in Python. While we are using Jupyter to demonstrate this package, we will also be saving figures at publication ready formats so that you can see how to use this in your work. \n",
    "\n",
    "Matplotlib like most other Python packages has amazing documentation online you can check it out at the [documentation](https://matplotlib.org/) online.\n",
    "\n",
    "#### What is Seaborn?\n",
    "\n",
    "Like matplotlib, [seaborn](https://seaborn.pydata.org/) is another visualization package in Python. It's considered a \"higher-level package\" because it provides more statistical summary functionality built on top of matplotlib. We will use it in this notebook so that you can see how different packages can interact.\n",
    "\n",
    "#### Why are we using these? \n",
    "\n",
    "Matplotlib is the basic plotting package for Python. Seaborn is another plotting package that is rapidly gaining in popularity. We will see a few more packages (for geo data) in the next notebook in this series. "
   ]
  },
  {
   "cell_type": "code",
   "execution_count": 5,
   "metadata": {},
   "outputs": [],
   "source": [
    "import matplotlib.pyplot as plt  #for basic plotting\n",
    "import seaborn as sns            #for more advanced plotting\n",
    "\n",
    "import pandas as pd              #for analyzing/reading data\n",
    "import numpy  as np              #for analyzing/reading data\n",
    "\n",
    "\n",
    "import matplotlib.image as mpimg #for reading image data"
   ]
  },
  {
   "cell_type": "code",
   "execution_count": null,
   "metadata": {},
   "outputs": [],
   "source": [
    "#Let's start by looking by exploring what the sun looks like"
   ]
  },
  {
   "cell_type": "code",
   "execution_count": 6,
   "metadata": {},
   "outputs": [],
   "source": [
    "\n",
    "quietSun  = mpimg.imread('./Data/SolarMinImages/20180105_022906_512_0304.jpg')\n",
    "activeSun = mpimg.imread('./Data/SolarMaxImages/20130317_044532_512_0304.jpg')\n"
   ]
  },
  {
   "cell_type": "code",
   "execution_count": 10,
   "metadata": {},
   "outputs": [],
   "source": [
    "#Then let's do the line series of omni data"
   ]
  },
  {
   "cell_type": "code",
   "execution_count": 2,
   "metadata": {},
   "outputs": [
    {
     "ename": "SyntaxError",
     "evalue": "invalid syntax (<ipython-input-2-ba720d1ccaef>, line 2)",
     "output_type": "error",
     "traceback": [
      "\u001b[0;36m  File \u001b[0;32m\"<ipython-input-2-ba720d1ccaef>\"\u001b[0;36m, line \u001b[0;32m2\u001b[0m\n\u001b[0;31m    -> Solar data line series etc.\u001b[0m\n\u001b[0m     ^\u001b[0m\n\u001b[0;31mSyntaxError\u001b[0m\u001b[0;31m:\u001b[0m invalid syntax\n"
     ]
    }
   ],
   "source": [
    "\n",
    "#two datasets. \n",
    "-> Solar data line series etc. \n",
    "-> Solar surface -> imshow\n",
    "-> Mars surface plots / datetime functionality\n",
    "\n",
    "\n",
    "\n",
    "#notes - \n",
    "\n",
    "#cover matplotlib\n",
    "#cover cartopy\n",
    "#cover seaborn\n",
    "#cover plotly [demo pip install]\n",
    "\n",
    "#use the elevation data from Mars"
   ]
  },
  {
   "cell_type": "code",
   "execution_count": null,
   "metadata": {},
   "outputs": [],
   "source": []
  }
 ],
 "metadata": {
  "kernelspec": {
   "display_name": "Python 3",
   "language": "python",
   "name": "python3"
  },
  "language_info": {
   "codemirror_mode": {
    "name": "ipython",
    "version": 3
   },
   "file_extension": ".py",
   "mimetype": "text/x-python",
   "name": "python",
   "nbconvert_exporter": "python",
   "pygments_lexer": "ipython3",
   "version": "3.7.7"
  }
 },
 "nbformat": 4,
 "nbformat_minor": 4
}
